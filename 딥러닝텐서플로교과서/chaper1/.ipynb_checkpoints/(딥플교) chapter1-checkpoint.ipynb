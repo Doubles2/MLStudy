{
 "cells": [
  {
   "cell_type": "markdown",
   "id": "4806e379-06b9-4059-b98b-5a2c5bcb8e1c",
   "metadata": {
    "tags": []
   },
   "source": [
    "# 1장 머신러닝과 딥러닝\n",
    "- 1.1 인공지능, 머신 러닝과 딥러닝\n",
    "- 1.2 머신 러닝이란\n",
    "- 1.3 딥러닝이란"
   ]
  },
  {
   "cell_type": "markdown",
   "id": "03898155-f801-403f-b55e-3e68cbe95731",
   "metadata": {},
   "source": [
    "----"
   ]
  },
  {
   "cell_type": "markdown",
   "id": "b0cc3e58-7a97-44d4-9ba9-b1718021effa",
   "metadata": {
    "tags": []
   },
   "source": [
    "## 1.1 인공지능, 머신 러닝과 딥러닝"
   ]
  },
  {
   "cell_type": "markdown",
   "id": "8ed076c8-c271-413b-84cc-df9aeee6fd0b",
   "metadata": {},
   "source": [
    "- 인공지능(Artificial Intelligence, AI)은 인간의 지능을 모방하여 사람이 하는 일을 기계가 할 수 있도록 하는 기술\n",
    "- 인공지능을 구현하는 방법으로 머신러닝과 딥러닝이 있음\n",
    ">**인공지능, 머신러닝, 딥러닝의 관계**   \n",
    ">인공지능 > 머신러닝 > 딥러닝"
   ]
  },
  {
   "cell_type": "markdown",
   "id": "b52a62b2-9e46-4c08-ab2d-a3ac22887edc",
   "metadata": {},
   "source": [
    "* 목적과 주어진 환경에 맞게 데이터를 분석하려면 머신러닝과 딥러닝 차이를 명확하게 이해해야 함!\n",
    "        - 공통점 : 학습 모델을 제공하여 데이터를 분류할 수 있음\n",
    "        - 차이점 : 다음 표와 같음        \n",
    "###        \n",
    "        \n",
    "|구분|머신러닝|딥러닝|\n",
    "|---|---|---|\n",
    "|동작원리|입력 데이터에 알고리즘을 적용하여 예측을 수행함|정보를 전달하는 신경망을 사용하여 데이터 특징 및 관계를 해석함|\n",
    "|재사용|입력 데이터를 분석하기 위해 다양한 알고리즘을 사용하며, 동일한 유형의 데이터 분석을 위한 재사용은 불가능함|구현된 알고리즘은 동일한 유형의 데이터를 분석하는 데 재사용됨|\n",
    "|데이터|일반적으로 수천 개의 데이터가 필요함|수백만 개 이상의 데이터가 필요함|\n",
    "|훈련시간|단시간|장시간|\n",
    "결과|일반적으로 점수 또는 분류 등 숫자값|출력은 점수, 텍스트, 소리 등 어떤 것이든 가능|"
   ]
  },
  {
   "cell_type": "markdown",
   "id": "9af07d7a-40d0-49e8-9fd5-0e58c3cac9db",
   "metadata": {
    "tags": []
   },
   "source": [
    "---\n",
    "## 1.2 머신 러닝이란\n",
    "- 인공지능의 한 분야\n",
    "- 컴퓨터 스스로 대용량 데이터에서 지식이나 패턴을 찾아 학습하고 예측을 수행하는 것\n",
    "- 컴퓨터가 학습할 수 있게 하는 알고리즘과 기술을 개발하는 분야"
   ]
  },
  {
   "cell_type": "markdown",
   "id": "60e97a03-d281-484a-9821-c5f6636e158b",
   "metadata": {},
   "source": [
    "### 머신러닝 학습 과정\n",
    "- 학습 단계와 예측 단계로 구분됨\n",
    "    - 학습 단계 : 학습 데이터를 대상으로 머신러닝 알고리즘을 적용하여 학습함\n",
    "    - 예측 단계 : 학습 단계에서 생성된 모형에 새로운 데이터를 적용하여 결과를 예측함\n",
    "- 머신 러닝에서 컴퓨터가 스스로 학습하려면 == 컴퓨터가 입력받은 데이터를 분석하여 패턴이나 규칙을 찾아내려면\n",
    "    - **사람이 인지하는 데이터를 컴퓨터가 인지할 수 있는 데이터로 변환해야 함**\n",
    "    - 이 단계를 특성 추출(feature extraction)이라고 함\n",
    "    - 특성 추출 : 데이터별로 어떤 특징을 가지고 있는지 찾아내고, 그것을 바탕으로 벡터로 변환하는 작업"
   ]
  },
  {
   "cell_type": "markdown",
   "id": "20b0d4eb-5c4d-4d42-be9a-5be18dbc952e",
   "metadata": {
    "jp-MarkdownHeadingCollapsed": true,
    "tags": []
   },
   "source": [
    "### 데이터란?\n",
    "- 머신러닝이 학습 모델을 만드는 데 사용하는 것\n",
    "- 훈련 데이터가 나쁘다면 실제 현상의 특성을 제대로 반영할 수 없음\n",
    "- 실제 데이터의 특징이 잘 반영되어야 함\n",
    "- 편향되지 않는 데이터를 확보해야 함"
   ]
  },
  {
   "cell_type": "markdown",
   "id": "ec7f3f25-d19e-4f7d-b5f8-febd6506d69a",
   "metadata": {},
   "source": [
    "### 모델이란?\n",
    "- 모신 러닝의 학습단계에서 얻은 최종 결과물\n",
    "- 가설이라고 함   \n",
    "    ex: \"입력 데이터의 패턴은 A와 같다\"라는 가정 == 머신 러닝 모델\n",
    "- 모델 학습 절차\n",
    "    1. 모델(또는 가설) 선택\n",
    "    2. 모델 학습(Train) 및 평가(validation, test)\n",
    "    3. 평가 바탕의 모델 업데이트\n",
    "    4. 최종 모델 도출"
   ]
  },
  {
   "cell_type": "markdown",
   "id": "abdf82c6-4ff8-4b2e-a2f7-331dee702eb1",
   "metadata": {
    "tags": []
   },
   "source": [
    "### 머신러닝 학습 알고리즘\n",
    "|구분|내용|유형|알고리즘|\n",
    "|---|---|---|---|\n",
    "|지도학습(supervised learning)|정답이 무엇인지 컴퓨터에 알려 주고 학습시키는 방법|분류(classification)|K-Nearset Neighbor(KNN), Support Vector Machine(SVM), decision tree, logistic regression|\n",
    "| | |회귀(Regression)|선형회귀(linear regression)\n",
    "|비지도학습(unsupervised learning)|정답을 알려 주지 않고 특징이 비슷한 데이터를 클러스터링(범주화)하여 예측하는 학습 방법|군집(Clustering)|K-means clustering), 밀도 기반 군집 분석(DBSCAN)|\n",
    "| |유사도 기반(데이터 간 거리 측정)으로 특징이 유사한 데이터끼리 클러스터링으로 묶어서 분류함|차원 축소(dimensionality reduction)|주성분 분석(Principal Component Analysis, PCA)|\n",
    "|강화학습(reinforcement learning)|정답이 없는 상황에 대하여 보상이 커지는 행동은 자주 하도록 하고, 줄어드는 행동은 덜 하도록 하는 학습 방법| |마르코프 결정 과정(Markov Decision Process, MDP)|"
   ]
  },
  {
   "cell_type": "markdown",
   "id": "289ac08d-6780-4f26-b303-f87a642931e9",
   "metadata": {},
   "source": [
    "---\n",
    "## 1.3 딥러닝이란?\n",
    "- 딥러닝 : 인간의 신경망 원리를 모방한 심층 신경망 이론을 기반으로 고안된 머신 러닝 방법의 일종   \n",
    "    **딥러닝이 머신 러닝과 다른 큰 차이점은 인간의 뇌를 기초로 하여 설계했다는 것**\n",
    "- 인간의 뇌가 엄청난 수의 뉴런과 시냅스로 구성되어 있는 것에 착안하여 컴퓨터에 뉴런과 시냅스 개념을 적용함\n",
    "- 각각의 뉴런은 복잡하게 연결된 수많은 뉴런을 병렬 연산하여 기존에 컴퓨터가 수행하지 못했던 음성, 영상 인식 등의 처리를 가능하게 함\n",
    "![img](https://thebook.io/img/080263/025_1.jpg)\n",
    "|구분|내용|\n",
    "|---|---|\n",
    "|수상돌기|주변이나 다른 뉴런에서 자극을 받아들이고, 이 자극들을 전기적 신호 형태로 세포체와 축색돌기로 보내는 역할|\n",
    "|시냅스|신경 세포들이 이루는 연결 부위로, 한 뉴런의 축색돌기와 다음 뉴런의 수상돌기가 만나는 부분|\n",
    "|축삭돌기|다른 뉴런(수상돌기)에 신호를 전달하는 기능을 하는 뉴런의 한 부분. 뉴런에서 뻗어 있는 돌기 중 가장 길며, 단 한 개만 있음|\n",
    "|축삭말단|전달된 전기 신호를 받아 신경 전달 물질을 시냅스 틈새로 분비함|"
   ]
  },
  {
   "cell_type": "markdown",
   "id": "fe4613e0-f33c-451b-8666-30efd9afb248",
   "metadata": {},
   "source": [
    "### 딥러닝 학습 과정\n",
    "1. 데이터 준비\n",
    "2. 모델(모형) 정의   \n",
    "    * 일반적으로 은닉층(hidden layer) 개수가 많을수록 성능이 좋아지지만 과적합 발생 확률이 높아짐(은닉층 개수에 따른 성능과 과적합은 상충 관계)\n",
    "3. 모델(모형) 컴파일   \n",
    "    - 활성화 함수, 손실 함수, 옵티마이저를 선택하는 단계\n",
    "    - 학습 데이터셋이 연속형이면 평균 제곱 오차(Mean Squared Error, MSE) 선택\n",
    "    - 학습 데이터셋이 이산형 혹은 이진 분류이면 크로스 엔트로피(cross-entropy) 선택\n",
    "    - 과적합을 피할 수 있는 활성화 함수 및 옵티마이저 선택이 중요\n",
    "4. 모델(모형) 훈련   \n",
    "    - 한 번에 처리할 데이터양을 지정하는 것이 중요\n",
    "    - 배치, 에퐄, 하이퍼파라미터에 대한 최적 값을 찾을 수 있어야 함\n",
    "5. 모델(모형) 예측   "
   ]
  },
  {
   "cell_type": "markdown",
   "id": "300ccab7-37ae-455b-ba18-51a242064a10",
   "metadata": {},
   "source": [
    "### 딥러닝 학습 알고리즘\n",
    "|구분|유형|알고리즘|\n",
    "|---|---|---|\n",
    "|지도학습(supervised learning)|이미지 분류|CNN, AlexNet, ResNet|\n",
    "| |시계열 데이터 분석|RNN, LSTM|\n",
    "|비지도학습(unsupervised learning)|군집(clustering)|가우시안 혼합 모델(Gaussian Mixture Model, GMM), 자기 조직화 지도(Self-Organizing Map, SOM)|\n",
    "|전이학습(transfer learning)|사전 학습 모델|엘모(ELMo)|\n",
    "| |전이 학습|버트(BERT), MobileNETV2|\n",
    "|강화학습(reinforcement learning)| |마르코프 결정 과정(MDP)|"
   ]
  },
  {
   "cell_type": "code",
   "execution_count": null,
   "id": "bc6f2651-8ced-484f-b1ce-396afc7e09bc",
   "metadata": {},
   "outputs": [],
   "source": [
    "--"
   ]
  }
 ],
 "metadata": {
  "kernelspec": {
   "display_name": "Python 3 (ipykernel)",
   "language": "python",
   "name": "python3"
  },
  "language_info": {
   "codemirror_mode": {
    "name": "ipython",
    "version": 3
   },
   "file_extension": ".py",
   "mimetype": "text/x-python",
   "name": "python",
   "nbconvert_exporter": "python",
   "pygments_lexer": "ipython3",
   "version": "3.8.12"
  }
 },
 "nbformat": 4,
 "nbformat_minor": 5
}
